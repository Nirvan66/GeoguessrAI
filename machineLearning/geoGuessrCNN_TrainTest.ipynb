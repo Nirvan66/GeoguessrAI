{
 "cells": [
  {
   "cell_type": "markdown",
   "metadata": {},
   "source": [
    "* Creator: Nirvan S.P. Theethira\n",
    "* Date: 04/25/2020\n",
    "* The file is written to implement and test the class `Geoguessr` in the `geoCNN.py` file. The notebook is used to build the `geoCNN` model and train it on loaded data. Test data can also be loaded using the notebook and the model can be tested.\n",
    "* Note: Run details are specified in each cell. The notebook can be run on drive. The data is available on drive at: https://drive.google.com/drive/folders/1e7RPZEf8-SN9rgsO1oJXE__u04ZEeUXM?usp=sharing"
   ]
  },
  {
   "cell_type": "code",
   "execution_count": 1,
   "metadata": {},
   "outputs": [],
   "source": [
    "from shapely.geometry import Point, Polygon\n",
    "from matplotlib import pyplot as plt\n",
    "from math import sin, cos, sqrt, atan2, radians\n",
    "\n",
    "# !pip install gmaps\n",
    "import shapely\n",
    "import pickle\n",
    "import random\n",
    "import numpy as np\n",
    "import gmaps, os\n",
    "import tensorflow as tf\n",
    "from tensorflow.keras.preprocessing.image import load_img\n",
    "from tensorflow.keras.preprocessing.image import img_to_array\n",
    "from ipywidgets.embed import embed_minimal_html\n",
    "import webbrowser\n",
    "import geoCNN\n",
    "\n",
    "# directory containing data\n",
    "DATADIR = \"/home/nirvan/Desktop/github/GeoguessrAI/infoExtraction/data\"\n",
    "# directory to store model in\n",
    "# MODELDIR = \"/home/nirvan/Desktop/github/GeoguessrAI/machineLearning\"\n",
    "MODELDIR = \"/home/nirvan/Desktop/models\"\n",
    "\n",
    "# DATADIR = '/content/drive/My Drive/geoguessr'\n",
    "# MODELDIR = '/content/drive/My Drive/geoguessr'"
   ]
  },
  {
   "cell_type": "markdown",
   "metadata": {},
   "source": [
    "## Load training and testing data"
   ]
  },
  {
   "cell_type": "code",
   "execution_count": 5,
   "metadata": {},
   "outputs": [
    {
     "name": "stdout",
     "output_type": "stream",
     "text": [
      "Train files: 27702, Test files: 1458\n"
     ]
    }
   ],
   "source": [
    "# load training image file names\n",
    "TF = np.load(DATADIR+'/trainFiles.npy')\n",
    "# load testing image file names\n",
    "TESF = np.load(DATADIR+'/testFiles.npy')\n",
    "print(\"Train files: {}, Test files: {}\".format(len(TF), len(TESF)))"
   ]
  },
  {
   "cell_type": "code",
   "execution_count": 7,
   "metadata": {},
   "outputs": [
    {
     "name": "stdout",
     "output_type": "stream",
     "text": [
      "243\n"
     ]
    },
    {
     "data": {
      "image/png": "[encoded data removed]",
      "text/plain": [
       "<Figure size 432x288 with 1 Axes>"
      ]
     },
     "metadata": {
      "needs_background": "light"
     },
     "output_type": "display_data"
    }
   ],
   "source": [
    "# load split grid file\n",
    "usaPolyGrid = pickle.load(open(\"/home/nirvan/Desktop/github/GeoguessrAI/infoExtraction/usaPolyGrid.pkl\",'rb'))\n",
    "for i in usaPolyGrid.values():\n",
    "    plt.plot(i[:,1],i[:,0], color='black')\n",
    "print(len(usaPolyGrid))"
   ]
  },
  {
   "cell_type": "markdown",
   "metadata": {},
   "source": [
    "## Create and train model\n",
    "* Parameters that can be set in the cell below\n",
    "* `hidden1`: number of neurons for first hidden layer\n",
    "* `hidden2`: number of neurons for the second hidden layer"
   ]
  },
  {
   "cell_type": "code",
   "execution_count": 7,
   "metadata": {},
   "outputs": [
    {
     "name": "stdout",
     "output_type": "stream",
     "text": [
      "Model: \"sequential_3\"\n",
      "_________________________________________________________________\n",
      "Layer (type)                 Output Shape              Param #   \n",
      "=================================================================\n",
      "resnet50 (Model)             (None, 10, 19, 2048)      23587712  \n",
      "_________________________________________________________________\n",
      "conv2d_3 (Conv2D)            (None, 8, 17, 256)        4718848   \n",
      "_________________________________________________________________\n",
      "max_pooling2d_3 (MaxPooling2 (None, 4, 8, 256)         0         \n",
      "_________________________________________________________________\n",
      "dropout_6 (Dropout)          (None, 4, 8, 256)         0         \n",
      "_________________________________________________________________\n",
      "flatten_3 (Flatten)          (None, 8192)              0         \n",
      "_________________________________________________________________\n",
      "dense_6 (Dense)              (None, 256)               2097408   \n",
      "_________________________________________________________________\n",
      "dropout_7 (Dropout)          (None, 256)               0         \n",
      "_________________________________________________________________\n",
      "dense_7 (Dense)              (None, 243)               62451     \n",
      "=================================================================\n",
      "Total params: 30,466,419\n",
      "Trainable params: 6,878,707\n",
      "Non-trainable params: 23,587,712\n",
      "_________________________________________________________________\n"
     ]
    }
   ],
   "source": [
    "# model creation and compilation\n",
    "geoModel = geoCNN.Geoguessr(hidden1=256,hidden2=256)"
   ]
  },
  {
   "cell_type": "code",
   "execution_count": 8,
   "metadata": {},
   "outputs": [],
   "source": [
    "# model training\n",
    "geoModel.fit(trainFiles = TF, \n",
    "      dataDir = DATADIR+\"/dataCombined/\", \n",
    "      saveFolder = MODELDIR,\n",
    "      epochs=100,\n",
    "      saveEpoch=20,\n",
    "      batchSize=1000\n",
    "     )"
   ]
  },
  {
   "cell_type": "markdown",
   "metadata": {},
   "source": [
    "## Load and test single Model\n",
    "* Make sure the model file name matches the trained and saved model"
   ]
  },
  {
   "cell_type": "code",
   "execution_count": 3,
   "metadata": {},
   "outputs": [
    {
     "name": "stdout",
     "output_type": "stream",
     "text": [
      "Loading model from /home/nirvan/Desktop/models/model_0.083_6mill.h5\n",
      "Loaded model accuracy 0.083\n",
      "Model: \"sequential\"\n",
      "_________________________________________________________________\n",
      "Layer (type)                 Output Shape              Param #   \n",
      "=================================================================\n",
      "resnet50 (Model)             (None, 10, 19, 2048)      23587712  \n",
      "_________________________________________________________________\n",
      "conv2d (Conv2D)              (None, 8, 17, 256)        4718848   \n",
      "_________________________________________________________________\n",
      "max_pooling2d (MaxPooling2D) (None, 4, 8, 256)         0         \n",
      "_________________________________________________________________\n",
      "dropout (Dropout)            (None, 4, 8, 256)         0         \n",
      "_________________________________________________________________\n",
      "flatten (Flatten)            (None, 8192)              0         \n",
      "_________________________________________________________________\n",
      "dense (Dense)                (None, 256)               2097408   \n",
      "_________________________________________________________________\n",
      "dropout_1 (Dropout)          (None, 256)               0         \n",
      "_________________________________________________________________\n",
      "dense_1 (Dense)              (None, 243)               62451     \n",
      "=================================================================\n",
      "Total params: 30,466,419\n",
      "Trainable params: 6,878,707\n",
      "Non-trainable params: 23,587,712\n",
      "_________________________________________________________________\n"
     ]
    }
   ],
   "source": [
    "modelName = '/model_0.083_6mill.h5'\n",
    "geoModel = geoCNN.Geoguessr.load(MODELDIR + modelName)"
   ]
  },
  {
   "cell_type": "code",
   "execution_count": 8,
   "metadata": {},
   "outputs": [],
   "source": [
    "X,y = geoModel.readData(TESF[0:10], DATADIR+\"/dataCombined/\")"
   ]
  },
  {
   "cell_type": "code",
   "execution_count": 13,
   "metadata": {},
   "outputs": [
    {
     "data": {
      "text/plain": [
       "(243,)"
      ]
     },
     "execution_count": 13,
     "metadata": {},
     "output_type": "execute_result"
    }
   ],
   "source": [
    "y[0].shape"
   ]
  },
  {
   "cell_type": "markdown",
   "metadata": {},
   "source": [
    "* `fileName`: name of image file to predict grid location\n",
    "* `actGrid`: Actual gird the image belongs to"
   ]
  },
  {
   "cell_type": "code",
   "execution_count": 5,
   "metadata": {},
   "outputs": [
    {
     "data": {
      "image/png": "[encoded data removed]",
      "text/plain": [
       "<Figure size 432x288 with 1 Axes>"
      ]
     },
     "metadata": {
      "needs_background": "light"
     },
     "output_type": "display_data"
    },
    {
     "data": {
      "text/plain": [
       "139.14675590860872"
      ]
     },
     "execution_count": 5,
     "metadata": {},
     "output_type": "execute_result"
    }
   ],
   "source": [
    "fileName = TESF[0]\n",
    "actGrid = int(fileName.split('+')[0])\n",
    "geoModel.predictSingle(DATADIR+\"/dataCombined/\"+fileName, ployGrid=usaPolyGrid, expected=actGrid)"
   ]
  },
  {
   "cell_type": "markdown",
   "metadata": {},
   "source": [
    "* `fileNames`: List of image file names to predice on\n",
    "* `actGrids`: List of actual grid location of images"
   ]
  },
  {
   "cell_type": "code",
   "execution_count": 6,
   "metadata": {},
   "outputs": [
    {
     "name": "stdout",
     "output_type": "stream",
     "text": [
      "Evaluated 0 out of 50 points\n"
     ]
    },
    {
     "data": {
      "text/plain": [
       "971.4706435078465"
      ]
     },
     "execution_count": 6,
     "metadata": {},
     "output_type": "execute_result"
    }
   ],
   "source": [
    "fileNames = TESF[:50]\n",
    "actGrids = np.array(list(map(lambda x: int(x.split('+')[0]),fileNames)))\n",
    "geoModel.evaluate([DATADIR+\"/dataCombined/\"+i for i in fileNames], \n",
    "                  actGrids, usaPolyGrid)"
   ]
  },
  {
   "cell_type": "markdown",
   "metadata": {},
   "source": [
    "## Load and test Multiple Models"
   ]
  },
  {
   "cell_type": "code",
   "execution_count": 3,
   "metadata": {},
   "outputs": [
    {
     "name": "stdout",
     "output_type": "stream",
     "text": [
      "Loading model from /home/nirvan/Desktop/models/model_0.025_3mill.h5\n",
      "Loaded model accuracy 0.025\n",
      "Model: \"sequential\"\n",
      "_________________________________________________________________\n",
      "Layer (type)                 Output Shape              Param #   \n",
      "=================================================================\n",
      "resnet50 (Model)             (None, 10, 19, 2048)      23587712  \n",
      "_________________________________________________________________\n",
      "conv2d (Conv2D)              (None, 8, 17, 64)         1179712   \n",
      "_________________________________________________________________\n",
      "max_pooling2d (MaxPooling2D) (None, 4, 8, 64)          0         \n",
      "_________________________________________________________________\n",
      "dropout (Dropout)            (None, 4, 8, 64)          0         \n",
      "_________________________________________________________________\n",
      "flatten (Flatten)            (None, 2048)              0         \n",
      "_________________________________________________________________\n",
      "dense (Dense)                (None, 128)               262272    \n",
      "_________________________________________________________________\n",
      "dropout_1 (Dropout)          (None, 128)               0         \n",
      "_________________________________________________________________\n",
      "dense_1 (Dense)              (None, 243)               31347     \n",
      "=================================================================\n",
      "Total params: 25,061,043\n",
      "Trainable params: 1,473,331\n",
      "Non-trainable params: 23,587,712\n",
      "_________________________________________________________________\n",
      "Loading model from /home/nirvan/Desktop/models/model_0.039_13mill.h5\n",
      "Loaded model accuracy 0.039\n",
      "Model: \"sequential\"\n",
      "_________________________________________________________________\n",
      "Layer (type)                 Output Shape              Param #   \n",
      "=================================================================\n",
      "resnet50 (Model)             (None, 10, 19, 2048)      23587712  \n",
      "_________________________________________________________________\n",
      "conv2d (Conv2D)              (None, 8, 17, 256)        4718848   \n",
      "_________________________________________________________________\n",
      "max_pooling2d (MaxPooling2D) (None, 4, 8, 256)         0         \n",
      "_________________________________________________________________\n",
      "dropout (Dropout)            (None, 4, 8, 256)         0         \n",
      "_________________________________________________________________\n",
      "flatten (Flatten)            (None, 8192)              0         \n",
      "_________________________________________________________________\n",
      "dense (Dense)                (None, 1024)              8389632   \n",
      "_________________________________________________________________\n",
      "dropout_1 (Dropout)          (None, 1024)              0         \n",
      "_________________________________________________________________\n",
      "dense_1 (Dense)              (None, 243)               249075    \n",
      "=================================================================\n",
      "Total params: 36,945,267\n",
      "Trainable params: 13,357,555\n",
      "Non-trainable params: 23,587,712\n",
      "_________________________________________________________________\n",
      "Loading model from /home/nirvan/Desktop/models/model_0.083_6mill.h5\n",
      "Loaded model accuracy 0.083\n",
      "Model: \"sequential\"\n",
      "_________________________________________________________________\n",
      "Layer (type)                 Output Shape              Param #   \n",
      "=================================================================\n",
      "resnet50 (Model)             (None, 10, 19, 2048)      23587712  \n",
      "_________________________________________________________________\n",
      "conv2d (Conv2D)              (None, 8, 17, 256)        4718848   \n",
      "_________________________________________________________________\n",
      "max_pooling2d (MaxPooling2D) (None, 4, 8, 256)         0         \n",
      "_________________________________________________________________\n",
      "dropout (Dropout)            (None, 4, 8, 256)         0         \n",
      "_________________________________________________________________\n",
      "flatten (Flatten)            (None, 8192)              0         \n",
      "_________________________________________________________________\n",
      "dense (Dense)                (None, 256)               2097408   \n",
      "_________________________________________________________________\n",
      "dropout_1 (Dropout)          (None, 256)               0         \n",
      "_________________________________________________________________\n",
      "dense_1 (Dense)              (None, 243)               62451     \n",
      "=================================================================\n",
      "Total params: 30,466,419\n",
      "Trainable params: 6,878,707\n",
      "Non-trainable params: 23,587,712\n",
      "_________________________________________________________________\n",
      "Loading model from /home/nirvan/Desktop/models/model_0.071_.h5\n",
      "Loaded model accuracy 0.071\n",
      "Model: \"sequential\"\n",
      "_________________________________________________________________\n",
      "Layer (type)                 Output Shape              Param #   \n",
      "=================================================================\n",
      "resnet50 (Model)             (None, 10, 19, 2048)      23587712  \n",
      "_________________________________________________________________\n",
      "conv2d (Conv2D)              (None, 8, 17, 256)        4718848   \n",
      "_________________________________________________________________\n",
      "max_pooling2d (MaxPooling2D) (None, 4, 8, 256)         0         \n",
      "_________________________________________________________________\n",
      "dropout (Dropout)            (None, 4, 8, 256)         0         \n",
      "_________________________________________________________________\n",
      "flatten (Flatten)            (None, 8192)              0         \n",
      "_________________________________________________________________\n",
      "dense (Dense)                (None, 256)               2097408   \n",
      "_________________________________________________________________\n",
      "dropout_1 (Dropout)          (None, 256)               0         \n",
      "_________________________________________________________________\n",
      "dense_1 (Dense)              (None, 243)               62451     \n",
      "=================================================================\n",
      "Total params: 30,466,419\n",
      "Trainable params: 6,878,707\n",
      "Non-trainable params: 23,587,712\n",
      "_________________________________________________________________\n",
      "Loading model from /home/nirvan/Desktop/models/model_0.001_75th.h5\n",
      "Loaded model accuracy 0.001\n",
      "Model: \"sequential\"\n",
      "_________________________________________________________________\n",
      "Layer (type)                 Output Shape              Param #   \n",
      "=================================================================\n",
      "resnet50 (Model)             (None, 10, 19, 2048)      23587712  \n",
      "_________________________________________________________________\n",
      "conv2d (Conv2D)              (None, 8, 17, 4)          73732     \n",
      "_________________________________________________________________\n",
      "max_pooling2d (MaxPooling2D) (None, 4, 8, 4)           0         \n",
      "_________________________________________________________________\n",
      "dropout (Dropout)            (None, 4, 8, 4)           0         \n",
      "_________________________________________________________________\n",
      "flatten (Flatten)            (None, 128)               0         \n",
      "_________________________________________________________________\n",
      "dense (Dense)                (None, 4)                 516       \n",
      "_________________________________________________________________\n",
      "dropout_1 (Dropout)          (None, 4)                 0         \n",
      "_________________________________________________________________\n",
      "dense_1 (Dense)              (None, 243)               1215      \n",
      "=================================================================\n",
      "Total params: 23,663,175\n",
      "Trainable params: 75,463\n",
      "Non-trainable params: 23,587,712\n",
      "_________________________________________________________________\n"
     ]
    }
   ],
   "source": [
    "models = {}\n",
    "for i in os.listdir(MODELDIR):\n",
    "    models[i.split('.h5')[0]] = geoCNN.Geoguessr.load(MODELDIR + '/' +i)"
   ]
  },
  {
   "cell_type": "code",
   "execution_count": 22,
   "metadata": {},
   "outputs": [
    {
     "data": {
      "image/png": "[encoded data removed]",
      "text/plain": [
       "<Figure size 432x288 with 1 Axes>"
      ]
     },
     "metadata": {
      "needs_background": "light"
     },
     "output_type": "display_data"
    },
    {
     "data": {
      "text/plain": [
       "1232.0634610808133"
      ]
     },
     "execution_count": 22,
     "metadata": {},
     "output_type": "execute_result"
    }
   ],
   "source": [
    "fileName = TESF[20]\n",
    "models['model_0.071_.h5'].predictSingle(DATADIR+\"/dataCombined/\"+fileName, ployGrid=usaPolyGrid, expected=int(fileName.split('+')[0]))"
   ]
  },
  {
   "cell_type": "code",
   "execution_count": 19,
   "metadata": {},
   "outputs": [
    {
     "name": "stdout",
     "output_type": "stream",
     "text": [
      "Evaluated 0 out of 50 points\n"
     ]
    },
    {
     "data": {
      "text/plain": [
       "750.7130376168556"
      ]
     },
     "execution_count": 19,
     "metadata": {},
     "output_type": "execute_result"
    }
   ],
   "source": [
    "models['model_0.071_.h5'].evaluate([DATADIR+\"/dataCombined/\"+i for i in TESF[:50]], np.array(list(map(lambda x: int(x.split('+')[0]),TESF[:50]))), usaPolyGrid)"
   ]
  },
  {
   "cell_type": "code",
   "execution_count": 9,
   "metadata": {},
   "outputs": [
    {
     "data": {
      "text/plain": [
       "{'model_0.025_3mill.h5': <geoCNN.Geoguessr at 0x7f959451db90>,\n",
       " 'model_0.039_13mill.h5': <geoCNN.Geoguessr at 0x7f956885c950>,\n",
       " 'model_0.083_6mill.h5': <geoCNN.Geoguessr at 0x7f9537233ed0>,\n",
       " 'model_0.071_.h5': <geoCNN.Geoguessr at 0x7f9535c34990>,\n",
       " 'model_0.001_75th.h5': <geoCNN.Geoguessr at 0x7f953495c910>}"
      ]
     },
     "execution_count": 9,
     "metadata": {},
     "output_type": "execute_result"
    }
   ],
   "source": [
    "models"
   ]
  },
  {
   "cell_type": "code",
   "execution_count": null,
   "metadata": {},
   "outputs": [],
   "source": []
  }
 ],
 "metadata": {
  "kernelspec": {
   "display_name": "Python 3",
   "language": "python",
   "name": "python3"
  },
  "language_info": {
   "codemirror_mode": {
    "name": "ipython",
    "version": 3
   },
   "file_extension": ".py",
   "mimetype": "text/x-python",
   "name": "python",
   "nbconvert_exporter": "python",
   "pygments_lexer": "ipython3",
   "version": "3.7.4"
  },
  "latex_envs": {
   "LaTeX_envs_menu_present": true,
   "autoclose": false,
   "autocomplete": true,
   "bibliofile": "biblio.bib",
   "cite_by": "apalike",
   "current_citInitial": 1,
   "eqLabelWithNumbers": true,
   "eqNumInitial": 1,
   "hotkeys": {
    "equation": "Ctrl-E",
    "itemize": "Ctrl-I"
   },
   "labels_anchors": false,
   "latex_user_defs": false,
   "report_style_numbering": false,
   "user_envs_cfg": false
  }
 },
 "nbformat": 4,
 "nbformat_minor": 2
}
